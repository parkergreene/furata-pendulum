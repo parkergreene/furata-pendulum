{
 "cells": [
  {
   "cell_type": "markdown",
   "id": "71b76165-b798-45d7-ab9d-2ce1f625c736",
   "metadata": {},
   "source": [
    "# Furata Pendulum Notebook"
   ]
  },
  {
   "cell_type": "markdown",
   "id": "5c2cf16d-c1f4-45f6-aceb-c2ee82efa8fb",
   "metadata": {},
   "source": [
    "## Resources\n",
    "\n",
    "Stepper Motor Guide: https://www.youtube.com/watch?v=7spK_BkMJys\n",
    "\n",
    "PID Controller Tuning: https://www.youtube.com/watch?v=hRnofMxEf3Q\n"
   ]
  },
  {
   "cell_type": "code",
   "execution_count": null,
   "id": "5331da41-3e4f-4073-8fa8-e1b8149bc72a",
   "metadata": {},
   "outputs": [],
   "source": []
  }
 ],
 "metadata": {
  "kernelspec": {
   "display_name": "Python 3 (ipykernel)",
   "language": "python",
   "name": "python3"
  },
  "language_info": {
   "codemirror_mode": {
    "name": "ipython",
    "version": 3
   },
   "file_extension": ".py",
   "mimetype": "text/x-python",
   "name": "python",
   "nbconvert_exporter": "python",
   "pygments_lexer": "ipython3",
   "version": "3.10.3"
  }
 },
 "nbformat": 4,
 "nbformat_minor": 5
}
